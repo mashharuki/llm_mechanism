{
  "cells": [
    {
      "cell_type": "markdown",
      "metadata": {
        "colab_type": "text",
        "id": "view-in-github"
      },
      "source": [
        "<a href=\"https://colab.research.google.com/github/yukinaga/llm_mechanism/blob/main/section_1/02_exercise.ipynb\" target=\"_parent\"><img src=\"https://colab.research.google.com/assets/colab-badge.svg\" alt=\"Open In Colab\"/></a>"
      ]
    },
    {
      "cell_type": "markdown",
      "metadata": {
        "id": "z8g5FUr1BPri"
      },
      "source": [
        "# 演習\n",
        "より大きなGPT-2のモデルを読み込んで、文章を生成しましょう。"
      ]
    },
    {
      "cell_type": "markdown",
      "metadata": {
        "id": "oPKARfZNZ_EA"
      },
      "source": [
        "## ライブラリのインストール"
      ]
    },
    {
      "cell_type": "code",
      "execution_count": null,
      "metadata": {
        "id": "PRTOCXhK9YAM"
      },
      "outputs": [],
      "source": [
        "!pip install transformers\n",
        "!pip install sentencepiece"
      ]
    },
    {
      "cell_type": "code",
      "execution_count": null,
      "metadata": {},
      "outputs": [],
      "source": []
    },
    {
      "cell_type": "markdown",
      "metadata": {
        "id": "oLSgiA6Uktpm"
      },
      "source": [
        "## GPT-2の設定\n",
        "\n",
        "形態素解析のために`T5Tokenizer`を、訓練済みモデルの読み込みのために`AutoModelForCausalLM`を設定しますます。  \n",
        "以下を参考にセルにコードを追記し、「`rinna/japanese-gpt2-medium`」を読み込みましょう。   \n",
        "https://huggingface.co/rinna/japanese-gpt2-medium"
      ]
    },
    {
      "cell_type": "code",
      "execution_count": null,
      "metadata": {
        "id": "71dgCmmBli-s"
      },
      "outputs": [],
      "source": [
        "from transformers import T5Tokenizer, AutoModelForCausalLM\n",
        "\n",
        "tokenizer = T5Tokenizer.from_pretrained(\"rinna/japanese-gpt2-medium\")\n",
        "model = AutoModelForCausalLM.from_pretrained(\"rinna/japanese-gpt2-medium\")"
      ]
    },
    {
      "cell_type": "markdown",
      "metadata": {
        "id": "QhtRBNNf05CA"
      },
      "source": [
        "## 最初の文章を設定\n"
      ]
    },
    {
      "cell_type": "code",
      "execution_count": null,
      "metadata": {
        "id": "EcmmAToP4WE3"
      },
      "outputs": [],
      "source": [
        "first_sentence = \"羽田空港に到着。東京の街は\"  # 始まりの文章\n",
        "x = tokenizer.encode(first_sentence, return_tensors=\"pt\", add_special_tokens=False)  # 入力"
      ]
    },
    {
      "cell_type": "markdown",
      "metadata": {
        "id": "X7EUJRa31Q9c"
      },
      "source": [
        "## 文章の生成\n",
        "訓練済みのモデルを使って、文章を生成します。\n"
      ]
    },
    {
      "cell_type": "code",
      "execution_count": null,
      "metadata": {
        "id": "OHPJIvQoJ5Ze"
      },
      "outputs": [],
      "source": [
        "y = model.generate(x, max_length=100)\n",
        "generated_sentence = tokenizer.batch_decode(y, skip_special_tokens=True)\n",
        "print(generated_sentence)"
      ]
    },
    {
      "cell_type": "markdown",
      "metadata": {
        "id": "BEW_lUs3PJCQ"
      },
      "source": [
        "### 〇解答例\n",
        "以下は解答例です。"
      ]
    },
    {
      "cell_type": "code",
      "execution_count": null,
      "metadata": {
        "id": "mFen55GG7fAh"
      },
      "outputs": [],
      "source": [
        "from transformers import T5Tokenizer, AutoModelForCausalLM\n",
        "\n",
        "tokenizer = T5Tokenizer.from_pretrained(\"rinna/japanese-gpt2-medium\")  # ← ここにコードを追記\n",
        "model = AutoModelForCausalLM.from_pretrained(\"rinna/japanese-gpt2-medium\")  # ← ここにコードを追記"
      ]
    }
  ],
  "metadata": {
    "colab": {
      "authorship_tag": "ABX9TyOaaSMLLjZoDpOnHK+5Ozyk",
      "include_colab_link": true,
      "provenance": []
    },
    "kernelspec": {
      "display_name": "Python 3",
      "name": "python3"
    }
  },
  "nbformat": 4,
  "nbformat_minor": 0
}
