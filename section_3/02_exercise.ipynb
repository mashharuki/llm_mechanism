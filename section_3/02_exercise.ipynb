{
  "cells": [
    {
      "cell_type": "markdown",
      "metadata": {
        "colab_type": "text",
        "id": "view-in-github"
      },
      "source": [
        "<a href=\"https://colab.research.google.com/github/yukinaga/llm_mechanism/blob/main/section_3/02_exercise.ipynb\" target=\"_parent\"><img src=\"https://colab.research.google.com/assets/colab-badge.svg\" alt=\"Open In Colab\"/></a>"
      ]
    },
    {
      "cell_type": "markdown",
      "metadata": {
        "id": "uv454lBK1YCc"
      },
      "source": [
        "# 演習\n",
        "以下の2つの文章が連続しているかどうか、BERTのモデルを使って判定するコードを記述しましょう。  \n",
        "\n",
        "* When I woke up this morning, I heard birds singing.\n",
        "* I don't want to go to school today."
      ]
    },
    {
      "cell_type": "markdown",
      "metadata": {
        "id": "L_Ozfz3NhltP"
      },
      "source": [
        "ライブラリTransformersをインストールします。"
      ]
    },
    {
      "cell_type": "code",
      "execution_count": null,
      "metadata": {
        "id": "Y_mDYVlb-sqi"
      },
      "outputs": [],
      "source": [
        "!pip install transformers==4.26.0"
      ]
    },
    {
      "cell_type": "markdown",
      "metadata": {
        "id": "QOrUyQodPa-n"
      },
      "source": [
        "トークナイザーを読み込みます。"
      ]
    },
    {
      "cell_type": "code",
      "execution_count": null,
      "metadata": {
        "id": "G6oFZnS21Mqs"
      },
      "outputs": [],
      "source": [
        "import torch\n",
        "from transformers import BertTokenizer\n",
        "\n",
        "tokenizer = BertTokenizer.from_pretrained(\"bert-base-uncased\")"
      ]
    },
    {
      "cell_type": "markdown",
      "metadata": {
        "id": "SHy8g5ryPfxl"
      },
      "source": [
        "モデルを読み込み、連続性を判定する関数を設定します。"
      ]
    },
    {
      "cell_type": "code",
      "execution_count": null,
      "metadata": {
        "id": "FC0nihWMAtgG"
      },
      "outputs": [],
      "source": [
        "from transformers import BertForNextSentencePrediction\n",
        "\n",
        "nsp_model = BertForNextSentencePrediction.from_pretrained(\"bert-base-uncased\")\n",
        "nsp_model.eval()  # 評価モード\n",
        "\n",
        "def show_continuity(text1, text2):\n",
        "    # トークナイズ\n",
        "    tokenized = tokenizer(text1, text2, return_tensors=\"pt\")\n",
        "    print(\"Tokenized:\", tokenized)\n",
        "\n",
        "    # 予測と結果の表示\n",
        "    y = nsp_model(**tokenized)  # 予測\n",
        "    print(\"Result:\", y)\n",
        "    pred = torch.softmax(y.logits, dim=1)  # Softmax関数で確率に変換\n",
        "    print(str(pred[0][0].item()*100) + \"%の確率で連続しています。\")"
      ]
    },
    {
      "cell_type": "markdown",
      "metadata": {
        "id": "wWogb8nFIQMg"
      },
      "source": [
        "以下のコードを補完し、2つの文章の連続性を判定しましょう。\n",
        "`show_continuity`関数に、2つの文章を与えます。"
      ]
    },
    {
      "cell_type": "code",
      "execution_count": null,
      "metadata": {
        "id": "OaUmof1yF_rD"
      },
      "outputs": [],
      "source": [
        "text1 = \"What is soccer ?\"\n",
        "text2 = \"It is a sport played by two teams of eleven players on a rectangular field with a goal at each end. \"\n",
        "show_continuity(text1, text2)"
      ]
    },
    {
      "cell_type": "markdown",
      "metadata": {
        "id": "p3fclouTQokH"
      },
      "source": [
        "## 解答例\n",
        "以下は解答例です。"
      ]
    },
    {
      "cell_type": "code",
      "execution_count": null,
      "metadata": {
        "id": "VKQCoQ9OQqn9"
      },
      "outputs": [],
      "source": [
        "text1 = \"When I woke up this morning, I heard birds singing.\"  # ←ここにコードを記述\n",
        "text2 = \"I don't want to go to school .\"  # ←ここにコードを記述\n",
        "show_continuity(text1, text2)  # ←ここにコードを記述"
      ]
    }
  ],
  "metadata": {
    "accelerator": "GPU",
    "colab": {
      "authorship_tag": "ABX9TyPdThak2mCv3/o7nf1ujPCE",
      "include_colab_link": true,
      "provenance": []
    },
    "kernelspec": {
      "display_name": "Python 3",
      "name": "python3"
    }
  },
  "nbformat": 4,
  "nbformat_minor": 0
}
